{
 "cells": [
  {
   "cell_type": "code",
   "execution_count": 99,
   "metadata": {},
   "outputs": [],
   "source": [
    "# import dependencies\n",
    "import requests\n",
    "import xmltodict # had to do a pip install for this\n",
    "import json\n",
    "import pprint"
   ]
  },
  {
   "cell_type": "code",
   "execution_count": 100,
   "metadata": {},
   "outputs": [
    {
     "name": "stdout",
     "output_type": "stream",
     "text": [
      "('{\"Zestimate:zestimate\": {\"@xsi:schemaLocation\": '\n",
      " '\"http://www.zillow.com/static/xsd/Zestimate.xsd '\n",
      " 'http://www.zillowstatic.com/vstatic/80d5e73/static/xsd/Zestimate.xsd\", '\n",
      " '\"@xmlns:xsi\": \"http://www.w3.org/2001/XMLSchema-instance\", '\n",
      " '\"@xmlns:Zestimate\": \"http://www.zillow.com/static/xsd/Zestimate.xsd\", '\n",
      " '\"request\": {\"zpid\": \"48749425\"}, \"message\": {\"text\": \"Request successfully '\n",
      " 'processed\", \"code\": \"0\"}, \"response\": {\"zpid\": \"48749425\", \"links\": '\n",
      " '{\"homedetails\": '\n",
      " '\"http://www.zillow.com/homedetails/2114-Bigelow-Ave-N-Seattle-WA-98109/48749425_zpid/\", '\n",
      " '\"graphsanddata\": '\n",
      " '\"http://www.zillow.com/homedetails/2114-Bigelow-Ave-N-Seattle-WA-98109/48749425_zpid/#charts-and-data\", '\n",
      " '\"mapthishome\": \"http://www.zillow.com/homes/48749425_zpid/\", \"comparables\": '\n",
      " '\"http://www.zillow.com/homes/comps/48749425_zpid/\"}, \"address\": {\"street\": '\n",
      " '\"2114 Bigelow Ave N\", \"zipcode\": \"98109\", \"city\": \"Seattle\", \"state\": \"WA\", '\n",
      " '\"latitude\": \"47.637934\", \"longitude\": \"-122.347936\"}, \"zestimate\": '\n",
      " '{\"amount\": {\"@currency\": \"USD\", \"#text\": \"1948102\"}, \"last-updated\": '\n",
      " '\"01/23/2020\", \"oneWeekChange\": {\"@deprecated\": \"true\"}, \"valueChange\": '\n",
      " '{\"@duration\": \"30\", \"@currency\": \"USD\", \"#text\": \"56463\"}, \"valuationRange\": '\n",
      " '{\"low\": {\"@currency\": \"USD\", \"#text\": \"1850697\"}, \"high\": {\"@currency\": '\n",
      " '\"USD\", \"#text\": \"2064988\"}}, \"percentile\": \"98\"}, \"localRealEstate\": '\n",
      " '{\"region\": {\"@name\": \"East Queen Anne\", \"@id\": \"271856\", \"@type\": '\n",
      " '\"neighborhood\", \"zindexValue\": \"870,700\", \"links\": {\"overview\": '\n",
      " '\"http://www.zillow.com/local-info/WA-Seattle/East-Queen-Anne/r_271856/\", '\n",
      " '\"forSaleByOwner\": \"http://www.zillow.com/east-queen-anne-seattle-wa/fsbo/\", '\n",
      " '\"forSale\": \"http://www.zillow.com/east-queen-anne-seattle-wa/\"}}}, '\n",
      " '\"regions\": {\"zipcode-id\": \"99569\", \"city-id\": \"16037\", \"county-id\": \"207\", '\n",
      " '\"state-id\": \"59\"}}}}')\n"
     ]
    }
   ],
   "source": [
    "key = \"X1-ZWz1hl11r4gphn_aj9j5\"\n",
    "zid = \"48749425\"\n",
    "url = 'http://www.zillow.com/webservice/GetZestimate.htm?' \\\n",
    "            + 'zws-id=' + key \\\n",
    "            + '&zpid=' + zid \\\n",
    "\n",
    "# Convert to JSON\n",
    "data = requests.get(url)\n",
    "xpars = xmltodict.parse(data.text, xml_attribs=True)\n",
    "json = json.dumps(xpars)\n",
    "pprint.pprint(json)"
   ]
  },
  {
   "cell_type": "code",
   "execution_count": 101,
   "metadata": {},
   "outputs": [
    {
     "data": {
      "text/plain": [
       "'{'"
      ]
     },
     "execution_count": 101,
     "metadata": {},
     "output_type": "execute_result"
    }
   ],
   "source": [
    "json[0]"
   ]
  },
  {
   "cell_type": "code",
   "execution_count": null,
   "metadata": {},
   "outputs": [],
   "source": []
  }
 ],
 "metadata": {
  "kernelspec": {
   "display_name": "Python 3",
   "language": "python",
   "name": "python3"
  },
  "language_info": {
   "codemirror_mode": {
    "name": "ipython",
    "version": 3
   },
   "file_extension": ".py",
   "mimetype": "text/x-python",
   "name": "python",
   "nbconvert_exporter": "python",
   "pygments_lexer": "ipython3",
   "version": "3.7.4"
  }
 },
 "nbformat": 4,
 "nbformat_minor": 2
}
