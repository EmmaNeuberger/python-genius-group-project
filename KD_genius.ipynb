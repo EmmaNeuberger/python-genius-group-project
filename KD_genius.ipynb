{
 "cells": [
  {
   "cell_type": "code",
   "execution_count": 37,
   "metadata": {},
   "outputs": [],
   "source": [
    "import pandas as pd\n",
    "from citipy import citipy\n",
    "import csv\n"
   ]
  },
  {
   "cell_type": "code",
   "execution_count": 12,
   "metadata": {},
   "outputs": [],
   "source": [
    "airbnb = pd.read_csv(\"../../train.csv\")\n"
   ]
  },
  {
   "cell_type": "code",
   "execution_count": 13,
   "metadata": {},
   "outputs": [
    {
     "name": "stdout",
     "output_type": "stream",
     "text": [
      "long beach\n"
     ]
    }
   ],
   "source": [
    "airbnb.head(20)\n",
    "lat = airbnb['latitude']\n",
    "lon = airbnb['longitude']\n",
    "cities = []\n",
    "state=[]\n",
    "\n",
    "lat_lng = zip(lat, lon)\n",
    "\n",
    "# Identify nearest city for each lat, lng combination\n",
    "for lat_lng in lat_lng:\n",
    "    \n",
    "    city = citipy.nearest_city(lat_lng[0], lat_lng[1]).city_name\n",
    "    cities.append(city)\n",
    "\n",
    "# Print the city count to confirm sufficient count\n",
    "print(city)"
   ]
  },
  {
   "cell_type": "code",
   "execution_count": 17,
   "metadata": {},
   "outputs": [
    {
     "data": {
      "text/plain": [
       "new york          20344\n",
       "san francisco      5505\n",
       "west hollywood     5144\n",
       "edgewater          5076\n",
       "washington         4100\n",
       "                  ...  \n",
       "tiburon               1\n",
       "summit                1\n",
       "walnut park           1\n",
       "elizabeth             1\n",
       "south gate            1\n",
       "Name: cities, Length: 164, dtype: int64"
      ]
     },
     "execution_count": 17,
     "metadata": {},
     "output_type": "execute_result"
    }
   ],
   "source": [
    "airbnb['cities'] = cities\n",
    "airbnb['cities'].value_counts()"
   ]
  },
  {
   "cell_type": "code",
   "execution_count": 27,
   "metadata": {},
   "outputs": [
    {
     "data": {
      "text/plain": [
       "NYC        32349\n",
       "LA         22453\n",
       "SF          6434\n",
       "DC          5688\n",
       "Chicago     3719\n",
       "Boston      3468\n",
       "Name: city, dtype: int64"
      ]
     },
     "execution_count": 27,
     "metadata": {},
     "output_type": "execute_result"
    }
   ],
   "source": [
    "airbnb['city'].value_counts()"
   ]
  },
  {
   "cell_type": "code",
   "execution_count": 19,
   "metadata": {},
   "outputs": [
    {
     "data": {
      "text/plain": [
       "Index(['id', 'log_price', 'property_type', 'room_type', 'amenities',\n",
       "       'accommodates', 'bathrooms', 'bed_type', 'cancellation_policy',\n",
       "       'cleaning_fee', 'city', 'description', 'first_review',\n",
       "       'host_has_profile_pic', 'host_identity_verified', 'host_response_rate',\n",
       "       'host_since', 'instant_bookable', 'last_review', 'latitude',\n",
       "       'longitude', 'name', 'neighbourhood', 'number_of_reviews',\n",
       "       'review_scores_rating', 'thumbnail_url', 'zipcode', 'bedrooms', 'beds',\n",
       "       'cities'],\n",
       "      dtype='object')"
      ]
     },
     "execution_count": 19,
     "metadata": {},
     "output_type": "execute_result"
    }
   ],
   "source": [
    "airbnb.columns"
   ]
  },
  {
   "cell_type": "code",
   "execution_count": 35,
   "metadata": {},
   "outputs": [],
   "source": [
    "airbnb_new=airbnb[['id','city', 'neighbourhood', 'latitude', 'longitude', 'first_review']]"
   ]
  },
  {
   "cell_type": "code",
   "execution_count": null,
   "metadata": {},
   "outputs": [],
   "source": []
  },
  {
   "cell_type": "code",
   "execution_count": 31,
   "metadata": {},
   "outputs": [
    {
     "data": {
      "text/html": [
       "<div>\n",
       "<style scoped>\n",
       "    .dataframe tbody tr th:only-of-type {\n",
       "        vertical-align: middle;\n",
       "    }\n",
       "\n",
       "    .dataframe tbody tr th {\n",
       "        vertical-align: top;\n",
       "    }\n",
       "\n",
       "    .dataframe thead th {\n",
       "        text-align: right;\n",
       "    }\n",
       "</style>\n",
       "<table border=\"1\" class=\"dataframe\">\n",
       "  <thead>\n",
       "    <tr style=\"text-align: right;\">\n",
       "      <th></th>\n",
       "      <th>id</th>\n",
       "      <th>city</th>\n",
       "      <th>neighbourhood</th>\n",
       "      <th>latitude</th>\n",
       "      <th>longitude</th>\n",
       "    </tr>\n",
       "  </thead>\n",
       "  <tbody>\n",
       "    <tr>\n",
       "      <td>0</td>\n",
       "      <td>6901257</td>\n",
       "      <td>NYC</td>\n",
       "      <td>Brooklyn Heights</td>\n",
       "      <td>40.696524</td>\n",
       "      <td>-73.991617</td>\n",
       "    </tr>\n",
       "    <tr>\n",
       "      <td>1</td>\n",
       "      <td>6304928</td>\n",
       "      <td>NYC</td>\n",
       "      <td>Hell's Kitchen</td>\n",
       "      <td>40.766115</td>\n",
       "      <td>-73.989040</td>\n",
       "    </tr>\n",
       "    <tr>\n",
       "      <td>2</td>\n",
       "      <td>7919400</td>\n",
       "      <td>NYC</td>\n",
       "      <td>Harlem</td>\n",
       "      <td>40.808110</td>\n",
       "      <td>-73.943756</td>\n",
       "    </tr>\n",
       "    <tr>\n",
       "      <td>3</td>\n",
       "      <td>13418779</td>\n",
       "      <td>SF</td>\n",
       "      <td>Lower Haight</td>\n",
       "      <td>37.772004</td>\n",
       "      <td>-122.431619</td>\n",
       "    </tr>\n",
       "    <tr>\n",
       "      <td>4</td>\n",
       "      <td>3808709</td>\n",
       "      <td>DC</td>\n",
       "      <td>Columbia Heights</td>\n",
       "      <td>38.925627</td>\n",
       "      <td>-77.034596</td>\n",
       "    </tr>\n",
       "    <tr>\n",
       "      <td>...</td>\n",
       "      <td>...</td>\n",
       "      <td>...</td>\n",
       "      <td>...</td>\n",
       "      <td>...</td>\n",
       "      <td>...</td>\n",
       "    </tr>\n",
       "    <tr>\n",
       "      <td>74106</td>\n",
       "      <td>14549287</td>\n",
       "      <td>NYC</td>\n",
       "      <td>Williamsburg</td>\n",
       "      <td>40.709025</td>\n",
       "      <td>-73.939405</td>\n",
       "    </tr>\n",
       "    <tr>\n",
       "      <td>74107</td>\n",
       "      <td>13281809</td>\n",
       "      <td>LA</td>\n",
       "      <td>Hermosa Beach</td>\n",
       "      <td>33.871549</td>\n",
       "      <td>-118.396053</td>\n",
       "    </tr>\n",
       "    <tr>\n",
       "      <td>74108</td>\n",
       "      <td>18688039</td>\n",
       "      <td>NYC</td>\n",
       "      <td>Williamsburg</td>\n",
       "      <td>40.706749</td>\n",
       "      <td>-73.942377</td>\n",
       "    </tr>\n",
       "    <tr>\n",
       "      <td>74109</td>\n",
       "      <td>17045948</td>\n",
       "      <td>NYC</td>\n",
       "      <td>West Village</td>\n",
       "      <td>40.738535</td>\n",
       "      <td>-74.000157</td>\n",
       "    </tr>\n",
       "    <tr>\n",
       "      <td>74110</td>\n",
       "      <td>3534845</td>\n",
       "      <td>LA</td>\n",
       "      <td>Long Beach</td>\n",
       "      <td>33.761096</td>\n",
       "      <td>-118.192409</td>\n",
       "    </tr>\n",
       "  </tbody>\n",
       "</table>\n",
       "<p>74111 rows × 5 columns</p>\n",
       "</div>"
      ],
      "text/plain": [
       "             id city     neighbourhood   latitude   longitude\n",
       "0       6901257  NYC  Brooklyn Heights  40.696524  -73.991617\n",
       "1       6304928  NYC    Hell's Kitchen  40.766115  -73.989040\n",
       "2       7919400  NYC            Harlem  40.808110  -73.943756\n",
       "3      13418779   SF      Lower Haight  37.772004 -122.431619\n",
       "4       3808709   DC  Columbia Heights  38.925627  -77.034596\n",
       "...         ...  ...               ...        ...         ...\n",
       "74106  14549287  NYC      Williamsburg  40.709025  -73.939405\n",
       "74107  13281809   LA     Hermosa Beach  33.871549 -118.396053\n",
       "74108  18688039  NYC      Williamsburg  40.706749  -73.942377\n",
       "74109  17045948  NYC      West Village  40.738535  -74.000157\n",
       "74110   3534845   LA        Long Beach  33.761096 -118.192409\n",
       "\n",
       "[74111 rows x 5 columns]"
      ]
     },
     "execution_count": 31,
     "metadata": {},
     "output_type": "execute_result"
    }
   ],
   "source": []
  },
  {
   "cell_type": "code",
   "execution_count": 38,
   "metadata": {},
   "outputs": [],
   "source": [
    "airbnb_new.to_csv(\"Train reduced.csv\", index=False)"
   ]
  },
  {
   "cell_type": "code",
   "execution_count": null,
   "metadata": {},
   "outputs": [],
   "source": []
  }
 ],
 "metadata": {
  "kernelspec": {
   "display_name": "Python 3",
   "language": "python",
   "name": "python3"
  },
  "language_info": {
   "codemirror_mode": {
    "name": "ipython",
    "version": 3
   },
   "file_extension": ".py",
   "mimetype": "text/x-python",
   "name": "python",
   "nbconvert_exporter": "python",
   "pygments_lexer": "ipython3",
   "version": "3.6.9"
  }
 },
 "nbformat": 4,
 "nbformat_minor": 2
}
