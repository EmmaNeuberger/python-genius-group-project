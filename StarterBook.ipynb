{
 "cells": [
  {
   "cell_type": "code",
   "execution_count": null,
   "metadata": {},
   "outputs": [],
   "source": [
    "import pandas as pd\n",
    "\n",
    "# Adding past 12 months\n",
    "file = \"311_service_requests_current.csv\"\n",
    "df = pd.read_csv(file, encoding=\"ISO-8859-1\")\n",
    "\n",
    "# Adding 2018\n",
    "file1 = \"311_service_data_2018.csv\"\n",
    "df1 = pd.read_csv(file1, encoding=\"ISO-8859-1\")\n",
    "\n",
    "# Adding 2017\n",
    "file2 = \"311_service_data_2017.csv\"\n",
    "df2 = pd.read_csv(file2, encoding=\"ISO-8859-1\")\n",
    "\n",
    "# Adding 2016\n",
    "file3 = \"311_service_data_2016.csv\"\n",
    "df3 = pd.read_csv(file3, encoding=\"ISO-8859-1\")\n",
    "\n",
    "# Adding 2015\n",
    "file4 = \"311_service_data_2015.csv\"\n",
    "df4 = pd.read_csv(file4, encoding=\"ISO-8859-1\")\n",
    "\n",
    "# Adding 2014\n",
    "file5 = \"311_service_data_2015.csv\"\n",
    "df5 = pd.read_csv(file5, encoding=\"ISO-8859-1\")\n",
    "\n",
    "# Adding 2013\n",
    "file6 = \"311_service_data_2015.csv\"\n",
    "df6 = pd.read_csv(file6, encoding=\"ISO-8859-1\")\n",
    "\n",
    "# Joining them together\n",
    "joint = pd.concat([df, df1, df2, df3, df4, df5, df6])\n",
    "\n",
    "# Export file as a CSV, without the Pandas index, but with the header\n",
    "joint.to_csv(\"AllDenver311.csv\", index=False, header=True)"
   ]
  },
  {
   "cell_type": "code",
   "execution_count": null,
   "metadata": {},
   "outputs": [],
   "source": [
    "# Begin cleaning"
   ]
  }
 ],
 "metadata": {
  "kernelspec": {
   "display_name": "Python 3",
   "language": "python",
   "name": "python3"
  },
  "language_info": {
   "codemirror_mode": {
    "name": "ipython",
    "version": 3
   },
   "file_extension": ".py",
   "mimetype": "text/x-python",
   "name": "python",
   "nbconvert_exporter": "python",
   "pygments_lexer": "ipython3",
   "version": "3.7.4"
  }
 },
 "nbformat": 4,
 "nbformat_minor": 2
}
