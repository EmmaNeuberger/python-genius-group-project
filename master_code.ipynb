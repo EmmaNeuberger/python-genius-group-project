{
 "cells": [
  {
   "cell_type": "code",
   "execution_count": null,
   "metadata": {},
   "outputs": [],
   "source": [
    "import pandas as pd\n",
    "import csv"
   ]
  },
  {
   "cell_type": "code",
   "execution_count": null,
   "metadata": {},
   "outputs": [],
   "source": [
    "# denver airbnb csv build\n",
    "denver_data = pd.read_csv(\"denver_airbnb_listings.csv\")\n",
    "#denver_data.columns\n",
    "denver_airbnb = denver_data[['id','city','state','latitude','longitude','neighbourhood_cleansed','first_review']]\n",
    "denver_airbnb.head()\n",
    "denver_airbnb.to_csv(\"denver_airbnb_reduced.csv\",index=False)"
   ]
  }
 ],
 "metadata": {
  "kernelspec": {
   "display_name": "Python 3",
   "language": "python",
   "name": "python3"
  },
  "language_info": {
   "codemirror_mode": {
    "name": "ipython",
    "version": 3
   },
   "file_extension": ".py",
   "mimetype": "text/x-python",
   "name": "python",
   "nbconvert_exporter": "python",
   "pygments_lexer": "ipython3",
   "version": "3.7.4"
  }
 },
 "nbformat": 4,
 "nbformat_minor": 2
}
