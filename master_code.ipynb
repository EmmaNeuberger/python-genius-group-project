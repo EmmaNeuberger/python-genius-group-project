{
 "cells": [
  {
   "cell_type": "code",
   "execution_count": 7,
   "metadata": {},
   "outputs": [],
   "source": [
    "import pandas as pd\n",
    "import csv\n",
    "from citipy import citipy\n",
    "#import quandl\n",
    "#from api import api_key"
   ]
  },
  {
   "cell_type": "code",
   "execution_count": 5,
   "metadata": {},
   "outputs": [],
   "source": [
    "# denver airbnb csv build\n",
    "denver_data = pd.read_csv(\"denver_listings_orig.csv\")\n",
    "#denver_data.columns\n",
    "denver_airbnb = denver_data[['id','city','state','latitude','longitude','neighbourhood_cleansed','first_review']]\n",
    "denver_airbnb.head()\n",
    "denver_airbnb.to_csv(\"denver_airbnb_reduced.csv\",index=False)"
   ]
  },
  {
   "cell_type": "code",
   "execution_count": null,
   "metadata": {},
   "outputs": [],
   "source": [
    "# train airbnb csv build\n",
    "airbnb = pd.read_csv(\"train_listings_orig.csv\")\n",
    "\n",
    "# import city name\n",
    "lat = airbnb['latitude']\n",
    "lon = airbnb['longitude']\n",
    "cities = []\n",
    "state=[]\n",
    "lat_lng = zip(lat, lon)\n",
    "# Identify nearest city for each lat, lng combination\n",
    "for lat_lng in lat_lng:\n",
    "    city = citipy.nearest_city(lat_lng[0], lat_lng[1]).city_name\n",
    "    cities.append(city)\n",
    "# reduced file build\n",
    "airbnb_new=airbnb[['id','city', 'neighbourhood', 'latitude', 'longitude', 'first_review']]\n",
    "airbnb_new.to_csv(\"train_airbnb_reduced.csv\", index=False)"
   ]
  },
  {
   "cell_type": "code",
   "execution_count": null,
   "metadata": {},
   "outputs": [],
   "source": []
  }
 ],
 "metadata": {
  "kernelspec": {
   "display_name": "Python 3",
   "language": "python",
   "name": "python3"
  },
  "language_info": {
   "codemirror_mode": {
    "name": "ipython",
    "version": 3
   },
   "file_extension": ".py",
   "mimetype": "text/x-python",
   "name": "python",
   "nbconvert_exporter": "python",
   "pygments_lexer": "ipython3",
   "version": "3.7.4"
  }
 },
 "nbformat": 4,
 "nbformat_minor": 2
}
