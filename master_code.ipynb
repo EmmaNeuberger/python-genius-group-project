{
 "cells": [
  {
   "cell_type": "code",
   "execution_count": 17,
   "metadata": {},
   "outputs": [],
   "source": [
    "import pandas as pd\n",
    "import csv\n",
    "from citipy import citipy\n",
    "#import quandl\n",
    "#from api import api_key"
   ]
  },
  {
   "cell_type": "code",
   "execution_count": 18,
   "metadata": {},
   "outputs": [],
   "source": [
    "# denver airbnb csv build\n",
    "\n",
    "denver_data = pd.read_csv(\"denver_listings_orig.csv\")\n",
    "denver_airbnb = denver_data[['id','city','neighbourhood_cleansed','latitude','longitude','first_review']]\n",
    "denver_airbnb = denver_airbnb.rename(columns={'neighbourhood_cleansed':'neighbourhood'})\n",
    "denver_airbnb.head()\n",
    "denver_airbnb.to_csv(\"denver_airbnb_reduced.csv\",index=False)"
   ]
  },
  {
   "cell_type": "code",
   "execution_count": 19,
   "metadata": {},
   "outputs": [],
   "source": [
    "# train airbnb csv build\n",
    "\n",
    "airbnb = pd.read_csv(\"train_listings_orig.csv\")\n",
    "# import city name\n",
    "lat = airbnb['latitude']\n",
    "lon = airbnb['longitude']\n",
    "cities = []\n",
    "state=[]\n",
    "lat_lng = zip(lat, lon)\n",
    "# Identify nearest city for each lat, lng combination\n",
    "for lat_lng in lat_lng:\n",
    "    city = citipy.nearest_city(lat_lng[0], lat_lng[1]).city_name\n",
    "    cities.append(city)\n",
    "# reduced file build\n",
    "airbnb_new=airbnb[['id','city', 'neighbourhood', 'latitude', 'longitude', 'first_review']]\n",
    "airbnb_new.to_csv(\"train_airbnb_reduced.csv\", index=False)"
   ]
  },
  {
   "cell_type": "code",
   "execution_count": 34,
   "metadata": {},
   "outputs": [
    {
     "name": "stdout",
     "output_type": "stream",
     "text": [
      "Index(['id', 'city', 'neighbourhood', 'latitude', 'longitude', 'first_review'], dtype='object')\n",
      "Index(['id', 'city', 'neighbourhood', 'latitude', 'longitude', 'first_review'], dtype='object')\n",
      "            id    city     neighbourhood   latitude   longitude first_review\n",
      "0      6901257     NYC  Brooklyn Heights  40.696524  -73.991617    6/18/2016\n",
      "1      6304928     NYC    Hell's Kitchen  40.766115  -73.989040     8/5/2017\n",
      "2      7919400     NYC            Harlem  40.808110  -73.943756    4/30/2017\n",
      "3     13418779      SF      Lower Haight  37.772004 -122.431619          NaN\n",
      "4      3808709      DC  Columbia Heights  38.925627  -77.034596    5/12/2015\n",
      "...        ...     ...               ...        ...         ...          ...\n",
      "4860  40440457  Denver  University Hills  39.663740 -104.929630          NaN\n",
      "4861  40442282  Denver               CBD  39.744250 -104.995310          NaN\n",
      "4862  40443443  Denver               CBD  39.742600 -104.992510          NaN\n",
      "4863  40454518  Denver               CBD  39.742770 -104.996040          NaN\n",
      "4864  40454863  Denver               CBD  39.742600 -104.992820          NaN\n",
      "\n",
      "[78976 rows x 6 columns]\n"
     ]
    },
    {
     "data": {
      "text/plain": [
       "id               78976\n",
       "city             78976\n",
       "neighbourhood    72104\n",
       "latitude         78976\n",
       "longitude        78976\n",
       "first_review     62563\n",
       "dtype: int64"
      ]
     },
     "execution_count": 34,
     "metadata": {},
     "output_type": "execute_result"
    }
   ],
   "source": [
    "# concatenate airbnb reduced files\n",
    "\n",
    "train_rd = pd.read_csv(\"train_airbnb_reduced.csv\")\n",
    "denver_rd = pd.read_csv(\"denver_airbnb_reduced.csv\")\n",
    "train_df = pd.DataFrame(train_rd)\n",
    "denver_df = pd.DataFrame(denver_rd)\n",
    "# confirm the columns names are the same in both files\n",
    "print(train_df.columns)\n",
    "print(denver_df.columns)\n",
    "# combine\n",
    "airbnb_df = train_df.append(denver_df)\n",
    "print(airbnb_df)\n",
    "airbnb_df.count()\n",
    "# export to csv\n",
    "#airbnb_df.to_csv('airbnb_master.csv')"
   ]
  },
  {
   "cell_type": "code",
   "execution_count": 36,
   "metadata": {},
   "outputs": [
    {
     "name": "stdout",
     "output_type": "stream",
     "text": [
      "            id    city                 neighbourhood   latitude   longitude  \\\n",
      "0      6901257     NYC              Brooklyn Heights  40.696524  -73.991617   \n",
      "1      6304928     NYC                Hell's Kitchen  40.766115  -73.989040   \n",
      "2      7919400     NYC                        Harlem  40.808110  -73.943756   \n",
      "4      3808709      DC              Columbia Heights  38.925627  -77.034596   \n",
      "5     12422935      SF                    Noe Valley  37.753164 -122.429526   \n",
      "...        ...     ...                           ...        ...         ...   \n",
      "4803  40183334  Denver  Gateway - Green Valley Ranch  39.796190 -104.742960   \n",
      "4808  40200490  Denver               University Park  39.681040 -104.951610   \n",
      "4810  40205131  Denver                Jefferson Park  39.754870 -105.023300   \n",
      "4819  40266024  Denver                       Clayton  39.766200 -104.955840   \n",
      "4834  40347117  Denver                  Cherry Creek  39.712720 -104.941060   \n",
      "\n",
      "     first_review  \n",
      "0       6/18/2016  \n",
      "1        8/5/2017  \n",
      "2       4/30/2017  \n",
      "4       5/12/2015  \n",
      "5       8/27/2017  \n",
      "...           ...  \n",
      "4803   11/19/2019  \n",
      "4808   11/25/2019  \n",
      "4810   11/24/2019  \n",
      "4819   11/24/2019  \n",
      "4834   11/25/2019  \n",
      "\n",
      "[62563 rows x 6 columns]\n",
      "id               62563\n",
      "city             62563\n",
      "neighbourhood    57459\n",
      "latitude         62563\n",
      "longitude        62563\n",
      "first_review     62563\n",
      "dtype: int64\n"
     ]
    }
   ],
   "source": [
    "# data clean airbnb_df\n",
    "airbnb_df_clean = airbnb_df.dropna(subset=['first_review'])\n",
    "print(airbnb_df_clean)\n",
    "print(airbnb_df_clean.count())"
   ]
  },
  {
   "cell_type": "code",
   "execution_count": null,
   "metadata": {},
   "outputs": [],
   "source": []
  }
 ],
 "metadata": {
  "kernelspec": {
   "display_name": "Python 3",
   "language": "python",
   "name": "python3"
  },
  "language_info": {
   "codemirror_mode": {
    "name": "ipython",
    "version": 3
   },
   "file_extension": ".py",
   "mimetype": "text/x-python",
   "name": "python",
   "nbconvert_exporter": "python",
   "pygments_lexer": "ipython3",
   "version": "3.7.4"
  }
 },
 "nbformat": 4,
 "nbformat_minor": 2
}
