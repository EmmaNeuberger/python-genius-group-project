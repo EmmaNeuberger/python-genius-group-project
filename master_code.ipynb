{
 "cells": [
  {
   "cell_type": "code",
   "execution_count": 17,
   "metadata": {},
   "outputs": [],
   "source": [
    "import pandas as pd\n",
    "import csv\n",
    "from citipy import citipy\n",
    "#import quandl\n",
    "#from api import api_key"
   ]
  },
  {
   "cell_type": "code",
   "execution_count": 18,
   "metadata": {},
   "outputs": [],
   "source": [
    "# denver airbnb csv build\n",
    "\n",
    "denver_data = pd.read_csv(\"denver_listings_orig.csv\")\n",
    "#denver_data.columns\n",
    "denver_airbnb = denver_data[['id','city','neighbourhood_cleansed','latitude','longitude','first_review']]\n",
    "denver_airbnb = denver_airbnb.rename(columns={'neighbourhood_cleansed':'neighbourhood'})\n",
    "denver_airbnb.head()\n",
    "denver_airbnb.to_csv(\"denver_airbnb_reduced.csv\",index=False)"
   ]
  },
  {
   "cell_type": "code",
   "execution_count": 19,
   "metadata": {},
   "outputs": [],
   "source": [
    "# train airbnb csv build\n",
    "\n",
    "airbnb = pd.read_csv(\"train_listings_orig.csv\")\n",
    "# import city name\n",
    "lat = airbnb['latitude']\n",
    "lon = airbnb['longitude']\n",
    "cities = []\n",
    "state=[]\n",
    "lat_lng = zip(lat, lon)\n",
    "# Identify nearest city for each lat, lng combination\n",
    "for lat_lng in lat_lng:\n",
    "    city = citipy.nearest_city(lat_lng[0], lat_lng[1]).city_name\n",
    "    cities.append(city)\n",
    "# reduced file build\n",
    "airbnb_new=airbnb[['id','city', 'neighbourhood', 'latitude', 'longitude', 'first_review']]\n",
    "airbnb_new.to_csv(\"train_airbnb_reduced.csv\", index=False)"
   ]
  },
  {
   "cell_type": "code",
   "execution_count": 20,
   "metadata": {},
   "outputs": [
    {
     "name": "stdout",
     "output_type": "stream",
     "text": [
      "Index(['id', 'city', 'neighbourhood', 'latitude', 'longitude', 'first_review'], dtype='object')\n",
      "Index(['id', 'city', 'neighbourhood', 'latitude', 'longitude', 'first_review'], dtype='object')\n"
     ]
    }
   ],
   "source": [
    "# concatenate airbnb reduced files\n",
    "\n",
    "train_rd = pd.read_csv(\"train_airbnb_reduced.csv\")\n",
    "denver_rd = pd.read_csv(\"denver_airbnb_reduced.csv\")\n",
    "denver_rd.rename(columns={'neighbourhood_cleansed':'neighbourhood'})\n",
    "#confirm the columns names are the same in both files\n",
    "print(train_rd.columns)\n",
    "print(denver_rd.columns)\n"
   ]
  },
  {
   "cell_type": "code",
   "execution_count": null,
   "metadata": {},
   "outputs": [],
   "source": []
  }
 ],
 "metadata": {
  "kernelspec": {
   "display_name": "Python 3",
   "language": "python",
   "name": "python3"
  },
  "language_info": {
   "codemirror_mode": {
    "name": "ipython",
    "version": 3
   },
   "file_extension": ".py",
   "mimetype": "text/x-python",
   "name": "python",
   "nbconvert_exporter": "python",
   "pygments_lexer": "ipython3",
   "version": "3.7.4"
  }
 },
 "nbformat": 4,
 "nbformat_minor": 2
}
