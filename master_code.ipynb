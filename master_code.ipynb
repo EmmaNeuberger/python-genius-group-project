{
 "cells": [
  {
   "cell_type": "code",
   "execution_count": 73,
   "metadata": {},
   "outputs": [],
   "source": [
    "import pandas as pd\n",
    "import csv\n",
    "from citipy import citipy\n",
    "#import quandl\n",
    "#from api import api_key"
   ]
  },
  {
   "cell_type": "code",
   "execution_count": 74,
   "metadata": {},
   "outputs": [],
   "source": [
    "# denver airbnb csv build\n",
    "\n",
    "denver_data = pd.read_csv(\"denver_listings_orig.csv\")\n",
    "denver_airbnb = denver_data[['id','city','latitude','longitude','host_since']]\n",
    "#denver_airbnb = denver_airbnb.rename(columns={'neighbourhood_cleansed':'neighbourhood'})\n",
    "denver_airbnb.head()\n",
    "denver_airbnb.to_csv(\"denver_airbnb_reduced.csv\",index=False)"
   ]
  },
  {
   "cell_type": "code",
   "execution_count": 75,
   "metadata": {},
   "outputs": [],
   "source": [
    "# train airbnb csv build\n",
    "\n",
    "airbnb = pd.read_csv(\"train_listings_orig.csv\")\n",
    "# import city name\n",
    "lat = airbnb['latitude']\n",
    "lon = airbnb['longitude']\n",
    "cities = []\n",
    "state=[]\n",
    "lat_lng = zip(lat, lon)\n",
    "# Identify nearest city for each lat, lng combination\n",
    "for lat_lng in lat_lng:\n",
    "    city = citipy.nearest_city(lat_lng[0], lat_lng[1]).city_name\n",
    "    cities.append(city)\n",
    "# reduced file build\n",
    "airbnb_new=airbnb[['id','city', 'latitude', 'longitude', 'host_since']]\n",
    "airbnb_new.to_csv(\"train_airbnb_reduced.csv\", index=False)"
   ]
  },
  {
   "cell_type": "code",
   "execution_count": 76,
   "metadata": {},
   "outputs": [
    {
     "name": "stdout",
     "output_type": "stream",
     "text": [
      "Index(['id', 'city', 'latitude', 'longitude', 'host_since'], dtype='object')\n",
      "Index(['id', 'city', 'latitude', 'longitude', 'host_since'], dtype='object')\n",
      "            id    city   latitude   longitude  host_since\n",
      "0      6901257     NYC  40.696524  -73.991617   3/26/2012\n",
      "1      6304928     NYC  40.766115  -73.989040   6/19/2017\n",
      "2      7919400     NYC  40.808110  -73.943756  10/25/2016\n",
      "3     13418779      SF  37.772004 -122.431619   4/19/2015\n",
      "4      3808709      DC  38.925627  -77.034596    3/1/2015\n",
      "...        ...     ...        ...         ...         ...\n",
      "4860  40440457  Denver  39.663740 -104.929630   9/20/2017\n",
      "4861  40442282  Denver  39.744250 -104.995310    8/3/2018\n",
      "4862  40443443  Denver  39.742600 -104.992510    8/3/2018\n",
      "4863  40454518  Denver  39.742770 -104.996040    8/3/2018\n",
      "4864  40454863  Denver  39.742600 -104.992820    8/3/2018\n",
      "\n",
      "[78976 rows x 5 columns]\n"
     ]
    },
    {
     "data": {
      "text/plain": [
       "id            78976\n",
       "city          78976\n",
       "latitude      78976\n",
       "longitude     78976\n",
       "host_since    78770\n",
       "dtype: int64"
      ]
     },
     "execution_count": 76,
     "metadata": {},
     "output_type": "execute_result"
    }
   ],
   "source": [
    "# concatenate airbnb reduced files\n",
    "\n",
    "train_rd = pd.read_csv(\"train_airbnb_reduced.csv\")\n",
    "denver_rd = pd.read_csv(\"denver_airbnb_reduced.csv\")\n",
    "train_df = pd.DataFrame(train_rd)\n",
    "denver_df = pd.DataFrame(denver_rd)\n",
    "# confirm the columns names are the same in both files\n",
    "print(train_df.columns)\n",
    "print(denver_df.columns)\n",
    "# combine\n",
    "airbnb_df = train_df.append(denver_df)\n",
    "print(airbnb_df)\n",
    "airbnb_df.count()"
   ]
  },
  {
   "cell_type": "code",
   "execution_count": 77,
   "metadata": {},
   "outputs": [
    {
     "name": "stdout",
     "output_type": "stream",
     "text": [
      "            id    city   latitude   longitude  host_since\n",
      "0      6901257     NYC  40.696524  -73.991617   3/26/2012\n",
      "1      6304928     NYC  40.766115  -73.989040   6/19/2017\n",
      "2      7919400     NYC  40.808110  -73.943756  10/25/2016\n",
      "3     13418779      SF  37.772004 -122.431619   4/19/2015\n",
      "4      3808709      DC  38.925627  -77.034596    3/1/2015\n",
      "...        ...     ...        ...         ...         ...\n",
      "4860  40440457  Denver  39.663740 -104.929630   9/20/2017\n",
      "4861  40442282  Denver  39.744250 -104.995310    8/3/2018\n",
      "4862  40443443  Denver  39.742600 -104.992510    8/3/2018\n",
      "4863  40454518  Denver  39.742770 -104.996040    8/3/2018\n",
      "4864  40454863  Denver  39.742600 -104.992820    8/3/2018\n",
      "\n",
      "[78770 rows x 5 columns]\n",
      "id            78770\n",
      "city          78770\n",
      "latitude      78770\n",
      "longitude     78770\n",
      "host_since    78770\n",
      "dtype: int64\n"
     ]
    }
   ],
   "source": [
    "# data clean airbnb_df\n",
    "airbnb_df_clean = airbnb_df.dropna(subset=['host_since'])\n",
    "print(airbnb_df_clean)\n",
    "print(airbnb_df_clean.count())"
   ]
  },
  {
   "cell_type": "code",
   "execution_count": 78,
   "metadata": {},
   "outputs": [
    {
     "name": "stdout",
     "output_type": "stream",
     "text": [
      "['NYC' 'SF' 'DC' 'LA' 'Chicago' 'Boston' 'Denver']\n"
     ]
    }
   ],
   "source": [
    "# export to csv\n",
    "airbnb_df_clean.to_csv('airbnb_master.csv')\n",
    "# city list\n",
    "print(airbnb_df_clean['city'].unique())"
   ]
  },
  {
   "cell_type": "code",
   "execution_count": 84,
   "metadata": {},
   "outputs": [
    {
     "name": "stderr",
     "output_type": "stream",
     "text": [
      "C:\\Users\\chelb\\Anaconda3\\lib\\site-packages\\ipykernel_launcher.py:3: SettingWithCopyWarning: \n",
      "A value is trying to be set on a copy of a slice from a DataFrame.\n",
      "Try using .loc[row_indexer,col_indexer] = value instead\n",
      "\n",
      "See the caveats in the documentation: http://pandas.pydata.org/pandas-docs/stable/user_guide/indexing.html#returning-a-view-versus-a-copy\n",
      "  This is separate from the ipykernel package so we can avoid doing imports until\n"
     ]
    },
    {
     "ename": "KeyError",
     "evalue": "'host_since'",
     "output_type": "error",
     "traceback": [
      "\u001b[1;31m---------------------------------------------------------------------------\u001b[0m",
      "\u001b[1;31mKeyError\u001b[0m                                  Traceback (most recent call last)",
      "\u001b[1;32m<ipython-input-84-b6faa53d2b44>\u001b[0m in \u001b[0;36m<module>\u001b[1;34m\u001b[0m\n\u001b[0;32m     11\u001b[0m \u001b[1;31m# boston_df = airbnb_df_clean.loc[:,'city']==\"Boston\"\u001b[0m\u001b[1;33m\u001b[0m\u001b[1;33m\u001b[0m\u001b[1;33m\u001b[0m\u001b[0m\n\u001b[0;32m     12\u001b[0m \u001b[0mid_count\u001b[0m \u001b[1;33m=\u001b[0m \u001b[0mairbnb_df_clean\u001b[0m\u001b[1;33m[\u001b[0m\u001b[1;34m'id'\u001b[0m\u001b[1;33m]\u001b[0m\u001b[1;33m.\u001b[0m\u001b[0mcount\u001b[0m\u001b[1;33m(\u001b[0m\u001b[1;33m)\u001b[0m\u001b[1;33m\u001b[0m\u001b[1;33m\u001b[0m\u001b[0m\n\u001b[1;32m---> 13\u001b[1;33m \u001b[0mdenver_df\u001b[0m\u001b[1;33m[\u001b[0m\u001b[1;34m'host_since'\u001b[0m\u001b[1;33m]\u001b[0m\u001b[1;33m.\u001b[0m\u001b[0mmap\u001b[0m\u001b[1;33m(\u001b[0m\u001b[1;32mlambda\u001b[0m \u001b[0md\u001b[0m\u001b[1;33m:\u001b[0m \u001b[0md\u001b[0m\u001b[1;33m.\u001b[0m\u001b[0myear\u001b[0m\u001b[1;33m)\u001b[0m\u001b[1;33m.\u001b[0m\u001b[0mplot\u001b[0m\u001b[1;33m(\u001b[0m\u001b[0mkind\u001b[0m\u001b[1;33m=\u001b[0m\u001b[1;34m'line'\u001b[0m\u001b[1;33m,\u001b[0m\u001b[0my\u001b[0m\u001b[1;33m=\u001b[0m\u001b[0mid_count\u001b[0m\u001b[1;33m)\u001b[0m\u001b[1;33m\u001b[0m\u001b[1;33m\u001b[0m\u001b[0m\n\u001b[0m\u001b[0;32m     14\u001b[0m \u001b[1;31m#ax=plt.gca()\u001b[0m\u001b[1;33m\u001b[0m\u001b[1;33m\u001b[0m\u001b[1;33m\u001b[0m\u001b[0m\n\u001b[0;32m     15\u001b[0m \u001b[1;33m\u001b[0m\u001b[0m\n",
      "\u001b[1;32m~\\Anaconda3\\lib\\site-packages\\pandas\\core\\series.py\u001b[0m in \u001b[0;36m__getitem__\u001b[1;34m(self, key)\u001b[0m\n\u001b[0;32m   1066\u001b[0m         \u001b[0mkey\u001b[0m \u001b[1;33m=\u001b[0m \u001b[0mcom\u001b[0m\u001b[1;33m.\u001b[0m\u001b[0mapply_if_callable\u001b[0m\u001b[1;33m(\u001b[0m\u001b[0mkey\u001b[0m\u001b[1;33m,\u001b[0m \u001b[0mself\u001b[0m\u001b[1;33m)\u001b[0m\u001b[1;33m\u001b[0m\u001b[1;33m\u001b[0m\u001b[0m\n\u001b[0;32m   1067\u001b[0m         \u001b[1;32mtry\u001b[0m\u001b[1;33m:\u001b[0m\u001b[1;33m\u001b[0m\u001b[1;33m\u001b[0m\u001b[0m\n\u001b[1;32m-> 1068\u001b[1;33m             \u001b[0mresult\u001b[0m \u001b[1;33m=\u001b[0m \u001b[0mself\u001b[0m\u001b[1;33m.\u001b[0m\u001b[0mindex\u001b[0m\u001b[1;33m.\u001b[0m\u001b[0mget_value\u001b[0m\u001b[1;33m(\u001b[0m\u001b[0mself\u001b[0m\u001b[1;33m,\u001b[0m \u001b[0mkey\u001b[0m\u001b[1;33m)\u001b[0m\u001b[1;33m\u001b[0m\u001b[1;33m\u001b[0m\u001b[0m\n\u001b[0m\u001b[0;32m   1069\u001b[0m \u001b[1;33m\u001b[0m\u001b[0m\n\u001b[0;32m   1070\u001b[0m             \u001b[1;32mif\u001b[0m \u001b[1;32mnot\u001b[0m \u001b[0mis_scalar\u001b[0m\u001b[1;33m(\u001b[0m\u001b[0mresult\u001b[0m\u001b[1;33m)\u001b[0m\u001b[1;33m:\u001b[0m\u001b[1;33m\u001b[0m\u001b[1;33m\u001b[0m\u001b[0m\n",
      "\u001b[1;32m~\\Anaconda3\\lib\\site-packages\\pandas\\core\\indexes\\base.py\u001b[0m in \u001b[0;36mget_value\u001b[1;34m(self, series, key)\u001b[0m\n\u001b[0;32m   4728\u001b[0m         \u001b[0mk\u001b[0m \u001b[1;33m=\u001b[0m \u001b[0mself\u001b[0m\u001b[1;33m.\u001b[0m\u001b[0m_convert_scalar_indexer\u001b[0m\u001b[1;33m(\u001b[0m\u001b[0mk\u001b[0m\u001b[1;33m,\u001b[0m \u001b[0mkind\u001b[0m\u001b[1;33m=\u001b[0m\u001b[1;34m\"getitem\"\u001b[0m\u001b[1;33m)\u001b[0m\u001b[1;33m\u001b[0m\u001b[1;33m\u001b[0m\u001b[0m\n\u001b[0;32m   4729\u001b[0m         \u001b[1;32mtry\u001b[0m\u001b[1;33m:\u001b[0m\u001b[1;33m\u001b[0m\u001b[1;33m\u001b[0m\u001b[0m\n\u001b[1;32m-> 4730\u001b[1;33m             \u001b[1;32mreturn\u001b[0m \u001b[0mself\u001b[0m\u001b[1;33m.\u001b[0m\u001b[0m_engine\u001b[0m\u001b[1;33m.\u001b[0m\u001b[0mget_value\u001b[0m\u001b[1;33m(\u001b[0m\u001b[0ms\u001b[0m\u001b[1;33m,\u001b[0m \u001b[0mk\u001b[0m\u001b[1;33m,\u001b[0m \u001b[0mtz\u001b[0m\u001b[1;33m=\u001b[0m\u001b[0mgetattr\u001b[0m\u001b[1;33m(\u001b[0m\u001b[0mseries\u001b[0m\u001b[1;33m.\u001b[0m\u001b[0mdtype\u001b[0m\u001b[1;33m,\u001b[0m \u001b[1;34m\"tz\"\u001b[0m\u001b[1;33m,\u001b[0m \u001b[1;32mNone\u001b[0m\u001b[1;33m)\u001b[0m\u001b[1;33m)\u001b[0m\u001b[1;33m\u001b[0m\u001b[1;33m\u001b[0m\u001b[0m\n\u001b[0m\u001b[0;32m   4731\u001b[0m         \u001b[1;32mexcept\u001b[0m \u001b[0mKeyError\u001b[0m \u001b[1;32mas\u001b[0m \u001b[0me1\u001b[0m\u001b[1;33m:\u001b[0m\u001b[1;33m\u001b[0m\u001b[1;33m\u001b[0m\u001b[0m\n\u001b[0;32m   4732\u001b[0m             \u001b[1;32mif\u001b[0m \u001b[0mlen\u001b[0m\u001b[1;33m(\u001b[0m\u001b[0mself\u001b[0m\u001b[1;33m)\u001b[0m \u001b[1;33m>\u001b[0m \u001b[1;36m0\u001b[0m \u001b[1;32mand\u001b[0m \u001b[1;33m(\u001b[0m\u001b[0mself\u001b[0m\u001b[1;33m.\u001b[0m\u001b[0mholds_integer\u001b[0m\u001b[1;33m(\u001b[0m\u001b[1;33m)\u001b[0m \u001b[1;32mor\u001b[0m \u001b[0mself\u001b[0m\u001b[1;33m.\u001b[0m\u001b[0mis_boolean\u001b[0m\u001b[1;33m(\u001b[0m\u001b[1;33m)\u001b[0m\u001b[1;33m)\u001b[0m\u001b[1;33m:\u001b[0m\u001b[1;33m\u001b[0m\u001b[1;33m\u001b[0m\u001b[0m\n",
      "\u001b[1;32mpandas\\_libs\\index.pyx\u001b[0m in \u001b[0;36mpandas._libs.index.IndexEngine.get_value\u001b[1;34m()\u001b[0m\n",
      "\u001b[1;32mpandas\\_libs\\index.pyx\u001b[0m in \u001b[0;36mpandas._libs.index.IndexEngine.get_value\u001b[1;34m()\u001b[0m\n",
      "\u001b[1;32mpandas\\_libs\\index.pyx\u001b[0m in \u001b[0;36mpandas._libs.index.IndexEngine.get_loc\u001b[1;34m()\u001b[0m\n",
      "\u001b[1;32mpandas\\_libs\\index.pyx\u001b[0m in \u001b[0;36mpandas._libs.index.IndexEngine._get_loc_duplicates\u001b[1;34m()\u001b[0m\n",
      "\u001b[1;32mpandas\\_libs\\index.pyx\u001b[0m in \u001b[0;36mpandas._libs.index.IndexEngine.get_loc\u001b[1;34m()\u001b[0m\n",
      "\u001b[1;31mKeyError\u001b[0m: 'host_since'"
     ]
    }
   ],
   "source": [
    "# plot airbnb data\n",
    "import matplotlib.pyplot as plt\n",
    "airbnb_df_clean['host_since'] = pd.to_datetime(airbnb_df_clean['host_since'],infer_datetime_format=True)\n",
    "\n",
    "denver_df = airbnb_df_clean.loc[:,'city']==\"Denver\"\n",
    "#nyc_df = airbnb_df_clean.loc[:,'city']==\"NYC\"\n",
    "#dc_df = airbnb_df_clean.loc[:,'city']==\"DC\"\n",
    "#sf_df = airbnb_df_clean.loc[:,'city']==\"SF\"\n",
    "# la_df = airbnb_df_clean.loc[:,'city']==\"LA\"\n",
    "# chicago_df = airbnb_df_clean.loc[:,'city']==\"Chicago\"\n",
    "# boston_df = airbnb_df_clean.loc[:,'city']==\"Boston\"\n",
    "id_count = airbnb_df_clean['id'].count()\n",
    "denver_df['host_since'].map(lambda d: d.year).plot(kind='line',y=id_count)\n",
    "#ax=plt.gca()\n",
    "\n",
    "# airbnb_df_clean.plot(kind='line',x='host_since',y=\n",
    "plt.show()"
   ]
  },
  {
   "cell_type": "code",
   "execution_count": null,
   "metadata": {},
   "outputs": [],
   "source": []
  }
 ],
 "metadata": {
  "kernelspec": {
   "display_name": "Python 3",
   "language": "python",
   "name": "python3"
  },
  "language_info": {
   "codemirror_mode": {
    "name": "ipython",
    "version": 3
   },
   "file_extension": ".py",
   "mimetype": "text/x-python",
   "name": "python",
   "nbconvert_exporter": "python",
   "pygments_lexer": "ipython3",
   "version": "3.7.4"
  }
 },
 "nbformat": 4,
 "nbformat_minor": 2
}
